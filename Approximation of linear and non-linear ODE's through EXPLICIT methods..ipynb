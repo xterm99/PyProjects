{
 "cells": [
  {
   "cell_type": "markdown",
   "id": "ff3788d0",
   "metadata": {},
   "source": [
    "## Approximation of linear and non-linear ODE's through explicit methods.\n",
    "-------\n",
    "### Introduction and objective\n",
    "Exact and analytic solutions are of great educational, academic, theoretical, comprehension and validation value, but their quantitative results for a given practical problem at hand are at best approximate due to an inevitable mismatch between ideal theory and observable reality. \n",
    "\n",
    "In practice, when quantitative results for a given real-world problem are required, the numerically approximate estimation may often be demonstrably better (more accurate, faster, comprehensive, correct, exhaustive, efficient, cost-effective, etc.) than the analytical.\n",
    "\n",
    "Our aim will be to Implement two explicit solvers, the forward Euler and Ralston methods, to later study the convergence order and to compare the methods using a non-linear 2x2 ODE system."
   ]
  },
  {
   "cell_type": "code",
   "execution_count": 28,
   "id": "104629a5",
   "metadata": {},
   "outputs": [],
   "source": [
    "# import the libraries needed for the hole assignment.\n",
    "import numpy as np\n",
    "from math import e\n",
    "from matplotlib import pyplot as plt\n",
    "from numpy import zeros, array, exp\n",
    "from numpy.linalg import norm\n",
    "import numpy as np"
   ]
  },
  {
   "cell_type": "markdown",
   "id": "20b9a894",
   "metadata": {},
   "source": [
    "### Defining The Numerical schemes: Forward Euler Method and Ralston Method."
   ]
  },
  {
   "cell_type": "markdown",
   "id": "791291fa",
   "metadata": {},
   "source": [
    "We will approximate the system of ODE's with this 2 numerical schemes.\n",
    "Given initial data $y_0$ , $t_0$ and a the step size $h$ and the right hand side $f$ of an ODE the forward Euler Method computes:  $$y_{n+1} =y_n+hf(t_n,y_n)$$ where $y_n = y_0 +nh$. \n",
    "\n",
    "Similarly the Ralston Methods computes  $y_{n+1}$ the following way: $$ y_{n+1} = Φ(t_n, y_n; h) := y_n + \\frac{h}{4}(f(t_n, y_n) + 3f(t_n +\\frac{2h}{3}, y_n +\\frac{2h}{3}f(t_n, y_n))$$\n",
    "Note that Ralston's Method requires two evaluations of f at $(t_n, y_n)$, To optimize the number of calls to the function from 3 to 2 we store this values as a variable.\n",
    "\n"
   ]
  },
  {
   "cell_type": "code",
   "execution_count": 10,
   "id": "c7fbeae8",
   "metadata": {},
   "outputs": [],
   "source": [
    "def forwardEuler( f,Df, t0,y0, h):\n",
    "    return y0 + h*f(t0,y0)\n",
    "\n",
    "def Ralston( f,Df, t0,y0, h):\n",
    "    f0 = f(t0,y0)\n",
    "    f1 = f(t0+2/3*h, y0 + 2/3*h*f0)\n",
    "    return y0 + h/4*(f0+3*f1)"
   ]
  },
  {
   "cell_type": "markdown",
   "id": "61a968d2",
   "metadata": {},
   "source": [
    "### Setting Up the ODE Problem"
   ]
  },
  {
   "cell_type": "markdown",
   "id": "1395d65b",
   "metadata": {},
   "source": [
    " Problem setup for ODE\n",
    " $y'(t)=F(y(t))$ and $y(0)=y_0$ with right hand side\n",
    " $$ F(y_1,y_2) = \\left(\\begin{array}{cc} y_2 \\\\[1ex] y_2(\\lambda-2y_1) \\end{array}\\right) $$\n",
    " With $\\lambda=1$ and initial conditions $y_0=(2, -2)^T$ this has the exact solution\n",
    " $$ Y(t) = \\left(\\begin{array}{cc}\n",
    "      \\frac{2e^t}{2e^t-1} \\\\[2ex]\n",
    "      \\frac{-2e^{t}}{4e^{2t}-4e^t+1}\n",
    " \\end{array}\\right) $$\n",
    "We will solve this on the interval $[0,T]$."
   ]
  },
  {
   "cell_type": "code",
   "execution_count": 11,
   "id": "cae48c99",
   "metadata": {},
   "outputs": [],
   "source": [
    "T = 1\n",
    "Y = lambda t: array([2*exp(t)/(2*exp(t)-1),\n",
    "                     (-2*exp(t))/(4*exp(2*t)-4*exp(t)+1)])\n",
    "def f(t,y):\n",
    "    return array([y[1], y[1]*(1-2*y[0])])\n",
    "def Df(t,y):\n",
    "    return array([[0,1],[2*y[1],1-2*y[0]]])"
   ]
  },
  {
   "cell_type": "markdown",
   "id": "fa7a0d7e",
   "metadata": {},
   "source": [
    "### Intermediate functions"
   ]
  },
  {
   "cell_type": "markdown",
   "id": "a3c81257",
   "metadata": {},
   "source": [
    "We create the function 'evolve' to compute the approximation $ y_n≈Y(t_n) $ with $ n=0,…,N $ to the solution Y of an initial value problem $ y′(t)=f(t,y(t)) ,y(0)=y_0 $ \n",
    "Given $ h=T/N $, the method is of the form $ y_{n+1}=φ(f,t_n,y_n,h) $ and Φ is provided as a parameter to the the evolve function as a function handle. Creating this function allows us to implement any scheme of the above form which helps to reduce the size of the code.\n",
    "\n",
    "On the other hand, we also create a function to compute the experimental order of convergence (EOC) for a given sequence of step sizes and errors given in the form of a $m×2$ numpy.array $ ((h_1,e_1),(h_2,e_2),...,(h_m,e_m))$ and returns a vector of EOCs values $(eoc_i)_{m−1}^{i=1} $ given by $eoc_i= \\frac{log(e_{i+1}e_i)}{log(h_i+1h_i)}$"
   ]
  },
  {
   "cell_type": "code",
   "execution_count": 12,
   "id": "cdb137d2",
   "metadata": {},
   "outputs": [],
   "source": [
    "# Define the evolve function.\n",
    "def evolve(phi,f,Df, t0,y0, T,N):\n",
    "    h = T/N\n",
    "    y = np.zeros([N+1, len(y0)])\n",
    "    y[0] = y0\n",
    "    t = 0\n",
    "    for i in range(N):\n",
    "        y[i+1] = phi(f,Df, t,y[i], h)\n",
    "        t = t+h\n",
    "    return y\n",
    "\n",
    "#EOC function\n",
    "def computeEocs( herr ):\n",
    "    # herr = ( (h1,e1),(h2,e2),...,(hm,em) )\n",
    "    m = len(herr)\n",
    "    eocs = np.zeros( m-1 )\n",
    "    for i in range(m-1):\n",
    "        eocs[i] = np.log(herr[i+1,1]/herr[i,1] ) /\\\n",
    "                  np.log(herr[i+1,0]/herr[i,0] );\n",
    "    return eocs"
   ]
  },
  {
   "cell_type": "markdown",
   "id": "8369e422",
   "metadata": {},
   "source": [
    "Function to solve the problem given a 'stepper' (function for a single step of the solver). The 'experiment' function computes errors at the final time $T$ and the EOC for the # sequence of time steps given by\n",
    " $h_i = \\frac{T}{N_02^i}$ for $i=0,\\dots,M$ with $M=10$ using $N_0=20$. The method returns an array of length $M+1$ each entry of the form '[h,error,eoc]'. This function is created to avoid __code duplication__."
   ]
  },
  {
   "cell_type": "code",
   "execution_count": 13,
   "id": "1a691273",
   "metadata": {},
   "outputs": [],
   "source": [
    "def experiment(stepper):\n",
    "    M    = 11\n",
    "    herr = zeros( [M,2] )\n",
    "    for m in range(M):\n",
    "        N = 20*2**m\n",
    "        y = evolve( stepper, f,Df, 0,Y(0),T, N)\n",
    "        herr[m] = [T/N, norm( y[-1]-Y(T) )]\n",
    "\n",
    "    eoc = computeEocs( herr )\n",
    "    eoc = np.hstack( [ [np.nan],eoc ] )\n",
    "    res = np.hstack( [herr, np.atleast_2d(eoc).T] )\n",
    "\n",
    "    return res"
   ]
  },
  {
   "cell_type": "markdown",
   "id": "3171b086",
   "metadata": {},
   "source": [
    " Simulations\n",
    "-----------\n",
    " \n",
    "Perform the simulation using the forwardEuler stepper"
   ]
  },
  {
   "cell_type": "code",
   "execution_count": 29,
   "id": "4dbf8d12",
   "metadata": {},
   "outputs": [],
   "source": [
    "resFE = experiment(forwardEuler)"
   ]
  },
  {
   "cell_type": "code",
   "execution_count": 30,
   "id": "e9b2c81f",
   "metadata": {},
   "outputs": [],
   "source": [
    "resRalston = experiment(Ralston)"
   ]
  },
  {
   "cell_type": "markdown",
   "id": "bea3faaf",
   "metadata": {},
   "source": [
    " Results:\n",
    "-------- \n",
    "Generate a table (using pandas) containing the computed results"
   ]
  },
  {
   "cell_type": "code",
   "execution_count": 31,
   "id": "b37ebff5",
   "metadata": {},
   "outputs": [
    {
     "data": {
      "text/html": [
       "<style type=\"text/css\">\n",
       "</style>\n",
       "<table id=\"T_0666b_\">\n",
       "  <thead>\n",
       "    <tr>\n",
       "      <th class=\"blank level0\" >&nbsp;</th>\n",
       "      <th class=\"col_heading level0 col0\" >h</th>\n",
       "      <th class=\"col_heading level0 col1\" >FE-error</th>\n",
       "      <th class=\"col_heading level0 col2\" >FE-eoc</th>\n",
       "      <th class=\"col_heading level0 col3\" >Ralston-error</th>\n",
       "      <th class=\"col_heading level0 col4\" >Ralston-eoc</th>\n",
       "    </tr>\n",
       "  </thead>\n",
       "  <tbody>\n",
       "    <tr>\n",
       "      <th id=\"T_0666b_level0_row0\" class=\"row_heading level0 row0\" >0</th>\n",
       "      <td id=\"T_0666b_row0_col0\" class=\"data row0 col0\" >5.0000e-02</td>\n",
       "      <td id=\"T_0666b_row0_col1\" class=\"data row0 col1\" >3.589410e-02</td>\n",
       "      <td id=\"T_0666b_row0_col2\" class=\"data row0 col2\" >nan</td>\n",
       "      <td id=\"T_0666b_row0_col3\" class=\"data row0 col3\" >1.693490e-03</td>\n",
       "      <td id=\"T_0666b_row0_col4\" class=\"data row0 col4\" >nan</td>\n",
       "    </tr>\n",
       "    <tr>\n",
       "      <th id=\"T_0666b_level0_row1\" class=\"row_heading level0 row1\" >1</th>\n",
       "      <td id=\"T_0666b_row1_col0\" class=\"data row1 col0\" >2.5000e-02</td>\n",
       "      <td id=\"T_0666b_row1_col1\" class=\"data row1 col1\" >1.778951e-02</td>\n",
       "      <td id=\"T_0666b_row1_col2\" class=\"data row1 col2\" >1.013</td>\n",
       "      <td id=\"T_0666b_row1_col3\" class=\"data row1 col3\" >4.032309e-04</td>\n",
       "      <td id=\"T_0666b_row1_col4\" class=\"data row1 col4\" >2.070</td>\n",
       "    </tr>\n",
       "    <tr>\n",
       "      <th id=\"T_0666b_level0_row2\" class=\"row_heading level0 row2\" >2</th>\n",
       "      <td id=\"T_0666b_row2_col0\" class=\"data row2 col0\" >1.2500e-02</td>\n",
       "      <td id=\"T_0666b_row2_col1\" class=\"data row2 col1\" >8.856816e-03</td>\n",
       "      <td id=\"T_0666b_row2_col2\" class=\"data row2 col2\" >1.006</td>\n",
       "      <td id=\"T_0666b_row2_col3\" class=\"data row2 col3\" >9.842775e-05</td>\n",
       "      <td id=\"T_0666b_row2_col4\" class=\"data row2 col4\" >2.034</td>\n",
       "    </tr>\n",
       "    <tr>\n",
       "      <th id=\"T_0666b_level0_row3\" class=\"row_heading level0 row3\" >3</th>\n",
       "      <td id=\"T_0666b_row3_col0\" class=\"data row3 col0\" >6.2500e-03</td>\n",
       "      <td id=\"T_0666b_row3_col1\" class=\"data row3 col1\" >4.419085e-03</td>\n",
       "      <td id=\"T_0666b_row3_col2\" class=\"data row3 col2\" >1.003</td>\n",
       "      <td id=\"T_0666b_row3_col3\" class=\"data row3 col3\" >2.431759e-05</td>\n",
       "      <td id=\"T_0666b_row3_col4\" class=\"data row3 col4\" >2.017</td>\n",
       "    </tr>\n",
       "    <tr>\n",
       "      <th id=\"T_0666b_level0_row4\" class=\"row_heading level0 row4\" >4</th>\n",
       "      <td id=\"T_0666b_row4_col0\" class=\"data row4 col0\" >3.1250e-03</td>\n",
       "      <td id=\"T_0666b_row4_col1\" class=\"data row4 col1\" >2.207231e-03</td>\n",
       "      <td id=\"T_0666b_row4_col2\" class=\"data row4 col2\" >1.002</td>\n",
       "      <td id=\"T_0666b_row4_col3\" class=\"data row4 col3\" >6.043727e-06</td>\n",
       "      <td id=\"T_0666b_row4_col4\" class=\"data row4 col4\" >2.008</td>\n",
       "    </tr>\n",
       "    <tr>\n",
       "      <th id=\"T_0666b_level0_row5\" class=\"row_heading level0 row5\" >5</th>\n",
       "      <td id=\"T_0666b_row5_col0\" class=\"data row5 col0\" >1.5625e-03</td>\n",
       "      <td id=\"T_0666b_row5_col1\" class=\"data row5 col1\" >1.103040e-03</td>\n",
       "      <td id=\"T_0666b_row5_col2\" class=\"data row5 col2\" >1.001</td>\n",
       "      <td id=\"T_0666b_row5_col3\" class=\"data row5 col3\" >1.506503e-06</td>\n",
       "      <td id=\"T_0666b_row5_col4\" class=\"data row5 col4\" >2.004</td>\n",
       "    </tr>\n",
       "    <tr>\n",
       "      <th id=\"T_0666b_level0_row6\" class=\"row_heading level0 row6\" >6</th>\n",
       "      <td id=\"T_0666b_row6_col0\" class=\"data row6 col0\" >7.8125e-04</td>\n",
       "      <td id=\"T_0666b_row6_col1\" class=\"data row6 col1\" >5.513763e-04</td>\n",
       "      <td id=\"T_0666b_row6_col2\" class=\"data row6 col2\" >1.000</td>\n",
       "      <td id=\"T_0666b_row6_col3\" class=\"data row6 col3\" >3.760742e-07</td>\n",
       "      <td id=\"T_0666b_row6_col4\" class=\"data row6 col4\" >2.002</td>\n",
       "    </tr>\n",
       "    <tr>\n",
       "      <th id=\"T_0666b_level0_row7\" class=\"row_heading level0 row7\" >7</th>\n",
       "      <td id=\"T_0666b_row7_col0\" class=\"data row7 col0\" >3.9063e-04</td>\n",
       "      <td id=\"T_0666b_row7_col1\" class=\"data row7 col1\" >2.756523e-04</td>\n",
       "      <td id=\"T_0666b_row7_col2\" class=\"data row7 col2\" >1.000</td>\n",
       "      <td id=\"T_0666b_row7_col3\" class=\"data row7 col3\" >9.394971e-08</td>\n",
       "      <td id=\"T_0666b_row7_col4\" class=\"data row7 col4\" >2.001</td>\n",
       "    </tr>\n",
       "    <tr>\n",
       "      <th id=\"T_0666b_level0_row8\" class=\"row_heading level0 row8\" >8</th>\n",
       "      <td id=\"T_0666b_row8_col0\" class=\"data row8 col0\" >1.9531e-04</td>\n",
       "      <td id=\"T_0666b_row8_col1\" class=\"data row8 col1\" >1.378172e-04</td>\n",
       "      <td id=\"T_0666b_row8_col2\" class=\"data row8 col2\" >1.000</td>\n",
       "      <td id=\"T_0666b_row8_col3\" class=\"data row8 col3\" >2.347883e-08</td>\n",
       "      <td id=\"T_0666b_row8_col4\" class=\"data row8 col4\" >2.001</td>\n",
       "    </tr>\n",
       "    <tr>\n",
       "      <th id=\"T_0666b_level0_row9\" class=\"row_heading level0 row9\" >9</th>\n",
       "      <td id=\"T_0666b_row9_col0\" class=\"data row9 col0\" >9.7656e-05</td>\n",
       "      <td id=\"T_0666b_row9_col1\" class=\"data row9 col1\" >6.890635e-05</td>\n",
       "      <td id=\"T_0666b_row9_col2\" class=\"data row9 col2\" >1.000</td>\n",
       "      <td id=\"T_0666b_row9_col3\" class=\"data row9 col3\" >5.868636e-09</td>\n",
       "      <td id=\"T_0666b_row9_col4\" class=\"data row9 col4\" >2.000</td>\n",
       "    </tr>\n",
       "    <tr>\n",
       "      <th id=\"T_0666b_level0_row10\" class=\"row_heading level0 row10\" >10</th>\n",
       "      <td id=\"T_0666b_row10_col0\" class=\"data row10 col0\" >4.8828e-05</td>\n",
       "      <td id=\"T_0666b_row10_col1\" class=\"data row10 col1\" >3.445261e-05</td>\n",
       "      <td id=\"T_0666b_row10_col2\" class=\"data row10 col2\" >1.000</td>\n",
       "      <td id=\"T_0666b_row10_col3\" class=\"data row10 col3\" >1.467029e-09</td>\n",
       "      <td id=\"T_0666b_row10_col4\" class=\"data row10 col4\" >2.000</td>\n",
       "    </tr>\n",
       "  </tbody>\n",
       "</table>\n"
      ],
      "text/plain": [
       "<pandas.io.formats.style.Styler at 0x150ce8582b0>"
      ]
     },
     "execution_count": 31,
     "metadata": {},
     "output_type": "execute_result"
    }
   ],
   "source": [
    "res = np.hstack([resFE,resRalston])\n",
    "import pandas as pd\n",
    "# columns of table\n",
    "columns=['h', 'FE-error', 'FE-eoc', 'Ralston-error','Ralston-eoc']\n",
    "# values in table\n",
    "keys = {columns[0]: resFE[:,0], columns[1]: resFE[:,1], columns[2]: resFE[:,2],\n",
    "                                columns[3]: resRalston[:,1], columns[4]: resRalston[:,2]}\n",
    "# generate table\n",
    "table = pd.DataFrame(keys, index=range(res.shape[0]),\n",
    "        columns=columns)\n",
    "# format floating points for each column\n",
    "table = table.style.format({columns[0]:'{:.4e}',\n",
    "                            columns[1]:'{:.6e}', columns[3]:'{:.6e}',\n",
    "                            columns[2]:'{:.3f}', columns[4]:'{:.3f}'})\n",
    "# print(table.to_latex()) # output result as latex table for inclusion in tex document\n",
    "table"
   ]
  },
  {
   "cell_type": "markdown",
   "id": "fac4a420",
   "metadata": {},
   "source": [
    "### Conclusion and Evaluation\n",
    "------------\n",
    "\n",
    " Consider the above Table which shows the error and eoc for the forward\n",
    " Euler method in the second and third column for different time steps\n",
    " given in the first column.\n",
    " \n",
    " The experimental order of convergence shown in the third column clearly indicates that the\n",
    " method is __converging with order $1$__.\n",
    " This is in accordance with the __result proven in the lecture__, where we showed linear\n",
    " convergence for the forward Euler method. The results proven there were\n",
    " $$ |y_N-Y(T)| \\leq \\max_{n}|y_n-Y(t_n)| = O(h) $$\n",
    "\n",
    " \n",
    " In the last two columns of the above Table simulation results are\n",
    " summarized for the Ralston method given in Question 2.2.\n",
    "The last column showing the experimental order of convergence indicates\n",
    "that the method is converging __quadratically__. We have not studied this\n",
    " method in the lecture so have no theoretical result to compare with.\n",
    " \n",
    " _Could add (nice but was not required): further tests I made with linear right hand side and with\n",
    "$f(t)=\\cos(t)$ confirm the quadratic convergence._\n",
    "\n",
    " Summary Q2.3\n",
    " ------------\n",
    " \n",
    "In this question we were to compare the two method. We first show a\n",
    "figure comparing the errors of both methods with respect to the step\n",
    "size.\n"
   ]
  },
  {
   "cell_type": "code",
   "execution_count": 32,
   "id": "2613ca86",
   "metadata": {},
   "outputs": [
    {
     "data": {
      "image/png": "[encoded data removed]",
      "text/plain": [
       "<Figure size 432x288 with 1 Axes>"
      ]
     },
     "metadata": {
      "needs_background": "light"
     },
     "output_type": "display_data"
    }
   ],
   "source": [
    "from matplotlib import pyplot as plt\n",
    "plt.loglog(res[:,0],res[:,1],'bo-',label=\"Forward Euler\")\n",
    "plt.loglog(res[:,0],res[:,4],'r^-',label=\"Ralston\")\n",
    "plt.legend()\n",
    "plt.grid(True)\n",
    "plt.xlabel(\"step size h\")\n",
    "plt.ylabel(\"Error at end time\")\n",
    "plt.savefig(\"Q2_compareErr.pdf\", format=\"pdf\", bbox_inches=\"tight\") # output to pdf for inclusing in tex document"
   ]
  },
  {
   "cell_type": "markdown",
   "id": "ac5ecc1e",
   "metadata": {},
   "source": [
    " The Figure clearly shows the advantage of the method from Ralston's Method for a given step size. This is expected from a method that converges quadratically over a method with convergence order $1$.  For all step sizes the Ralston method outperforms the forward Euler method, which indicates that the constant in the error estimate of the Ralston method is not significantly higher compared to the constant in the estimate for the forward Euler method.\n",
    "\n",
    "Finally, we compare the efficiency of the two methods.Each step of the Euler method __requires a single evaluation__ of the right hand side function $f$ in each step while the Ralston's Method __requires two evaluations__. Therefore, the computational cost of the method from Ralston's Method  measured by the number of evaluations of $f$ to simulate up to a fixed time $T$ will be __twice the cost__ of the forward Euler method. This measure is used on the $x$ axis in the final Figure showing the error for a given computational cost."
   ]
  },
  {
   "cell_type": "code",
   "execution_count": 33,
   "id": "2e999bef",
   "metadata": {},
   "outputs": [
    {
     "data": {
      "image/png": "[encoded data removed]",
      "text/plain": [
       "<Figure size 432x288 with 1 Axes>"
      ]
     },
     "metadata": {
      "needs_background": "light"
     },
     "output_type": "display_data"
    }
   ],
   "source": [
    "plt.loglog(T/res[:,0],res[:,1],'bo-',label=\"Forward Euler\")\n",
    "plt.loglog(2*T/res[:,0],res[:,4],'r^-',label=\"Ralston\")\n",
    "plt.legend()\n",
    "plt.grid(True)\n",
    "plt.xlabel(\"number of f evaluations\")\n",
    "plt.ylabel(\"Error at end time\")\n",
    "plt.savefig(\"Q2_compareEff.pdf\", format=\"pdf\", bbox_inches=\"tight\")"
   ]
  },
  {
   "cell_type": "markdown",
   "id": "ea79e41e",
   "metadata": {},
   "source": [
    "Clearly __for this problem__ the method Ralston's Method outperforms the Forward\n",
    "Euler method even for large time steps. For example to achieve an error of\n",
    "$10^{-3}$ at the final time $T=10$ Ralston's Method requires an order\n",
    "of magnitude less evaluations of $f  then the Forward Euler method. The\n",
    "gap greatly increases if smaller errors are required.\n"
   ]
  }
 ],
 "metadata": {
  "kernelspec": {
   "display_name": "Python 3 (ipykernel)",
   "language": "python",
   "name": "python3"
  },
  "language_info": {
   "codemirror_mode": {
    "name": "ipython",
    "version": 3
   },
   "file_extension": ".py",
   "mimetype": "text/x-python",
   "name": "python",
   "nbconvert_exporter": "python",
   "pygments_lexer": "ipython3",
   "version": "3.9.7"
  }
 },
 "nbformat": 4,
 "nbformat_minor": 5
}
