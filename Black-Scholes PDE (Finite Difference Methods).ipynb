{
 "cells": [
  {
   "cell_type": "markdown",
   "metadata": {},
   "source": [
    "# The Black-Scholes PDE"
   ]
  },
  {
   "cell_type": "markdown",
   "metadata": {},
   "source": [
    "[*Black Scholes PDE, WIKI*](https://en.wikipedia.org/wiki/Black%E2%80%93Scholes_equation). \n",
    "\n",
    "In this notebook I want to show how to solve the famous Black-Scholes (BS) Partial Differential Equation (PDE).\n",
    "\n",
    "\\begin{equation}\n",
    "\\frac{\\partial  V(t,s)}{\\partial t}  \n",
    "          + r\\,s \\frac{\\partial V(t,s)}{\\partial s}\n",
    "          + \\frac{1}{2} \\sigma^2 s^2 \\frac{\\partial^2  V(t,s)}{\\partial s^2} - r  V(t,s)  = 0.\n",
    "\\end{equation}\n",
    "\n",
    "I decided to use a fully implicit method, because it is an efficient and stable method. The illustrated approach can be used to solve more complex problems, such as the pricing of different types of derivatives (barrier options, digital options, American options, etc) with small modifications.\n",
    "\n",
    "## Contents\n",
    "   - [The BS PDE](#sec1)\n",
    "      - [PDE in log-variables](#sec1.1)\n",
    "      - [Implicit discretization](#sec1.2)\n",
    "   - [Introduction to sparse matrices](#sec2)\n",
    "   - [Numerical solution of the PDE](#sec3)"
   ]
  },
  {
   "cell_type": "code",
   "execution_count": 1,
   "metadata": {},
   "outputs": [],
   "source": [
    "import numpy as np\n",
    "import scipy as scp\n",
    "import matplotlib.pyplot as plt\n",
    "from mpl_toolkits import mplot3d\n",
    "from matplotlib import cm\n",
    "%matplotlib inline\n",
    "\n",
    "from scipy import sparse\n",
    "from scipy.sparse.linalg import splu\n",
    "from scipy.sparse.linalg import spsolve\n",
    "\n",
    "from IPython.display import display\n",
    "import sympy; sympy.init_printing()\n",
    "\n",
    "def display_matrix(m):\n",
    "    display(sympy.Matrix(m))"
   ]
  },
  {
   "cell_type": "markdown",
   "metadata": {},
   "source": [
    "<a id='sec1'></a>\n",
    "## The BS PDE\n",
    "\n",
    "Ok ok... *Nihil novi sub sole*. The PDE derivation can be found in every textbooks... I know.  \n",
    "\n",
    "I suggest the interested reader to have a look at [1] for a clear exposition. If you are already familiar with these concepts, maybe it can be interesting for you to have a look at the notebook **A3**, where I present the derivation of the P(I)DE for general exponential Lévy processes. The BS PDE appears as a special case."
   ]
  },
  {
   "cell_type": "markdown",
   "metadata": {},
   "source": [
    "<a id='sec1.1'></a>\n",
    "## PDE in log-variables\n",
    "\n",
    "Let us consider the geometric Brownian motion (GBM), described by the SDE:    \n",
    "\n",
    "\\begin{equation}\n",
    "\t  \\frac{dS_t}{S_t} = \\mu dt + \\sigma dW_t.\n",
    "\\end{equation}\n",
    "\n",
    "Let $V(t,s)$ be the value of a European call option. \n",
    "\n",
    "By the **martingale pricing theory**, in an arbitrage-free market there exists an equivalent martingale measure $\\mathbb{Q}$ such that the discounted option price is a $\\mathbb{Q}$-martingale. (Remember that under $\\mathbb{Q}$ the drift $\\mu$ is replaced by the risk free drift $r$.)\n",
    "\n",
    "The PDE for the option price is:\n",
    "\n",
    "\\begin{equation}\n",
    " \\frac{\\partial V(t,s)}{\\partial t} + \\mathcal{L}^{S} V(t,s) -r V(t,s) = 0   \n",
    "\\end{equation}\n",
    "\n",
    "where $\\mathcal{L}^{S}$ is the infinitesimal generator of $\\{S_t\\}_{t\\in[t_0,T]}$.  \n",
    "In the Black-Scholes model, the measure $\\mathbb{Q}$ is unique and the infinitesimal generator under this measure is:\n",
    "\n",
    "\\begin{equation}\n",
    " \\mathcal{L}^{BS} V(t,s) = \\;  r s \\frac{\\partial V(t,s)}{\\partial s}\n",
    "+ \\frac{1}{2} \\sigma^2 s^2 \\frac{\\partial^2  V(t,s)}{\\partial s^2},\n",
    "\\end{equation}\n",
    "\n",
    "In order to simplify the computations, it is better to pass to the log-variable $x = \\log s$. This change corresponds to the following change in the operators:\n",
    "\n",
    "\\begin{equation}\n",
    "s \\frac{\\partial}{\\partial s} = \\frac{\\partial}{\\partial x}, \\hspace{2em} \n",
    "s^2 \\frac{\\partial^2}{\\partial s^2} = \\frac{\\partial^2}{\\partial x^2} - \\frac{\\partial}{\\partial x} . \n",
    "\\end{equation}\n",
    "\n",
    "In log-variables the BS PDE is:\n",
    "\n",
    "$$ \\frac{\\partial  V(t,x)}{\\partial t}  \n",
    "          + \\biggl( r -\\frac{1}{2}\\sigma^2 \\biggr) \\frac{\\partial V(t,x)}{\\partial x}\n",
    "          + \\frac{1}{2} \\sigma^2 \\frac{\\partial^2  V(t,x)}{\\partial x^2} - r  V(t,x)  = 0. $$\n",
    "\n",
    "For an option with strike $K$ and maturity $T$, the boundary conditions are:\n",
    "\n",
    "CALL:\n",
    " - Terminal:\n",
    " $$ V(T,x) = \\max(e^x-K,0), $$\n",
    " - Lateral:\n",
    " $$ V(t, x) \\underset{x \\to -\\infty}{=} 0 \\quad \\mbox{and} \\quad V(t, x) \\underset{x \\to \\infty}{\\sim} e^x - Ke^{-r(T-t)}. $$\n",
    "\n",
    "PUT:\n",
    " - Terminal:\n",
    " $$ V(T,x) = \\max(K-e^x,0), $$\n",
    " - Lateral:\n",
    "  $$ V(t, x) \\underset{x \\to -\\infty}{\\sim} Ke^{-r(T-t)} \\quad \\mbox{and} \\quad V(t, x) \\underset{x \\to \\infty}{=} 0. $$"
   ]
  },
  {
   "cell_type": "markdown",
   "metadata": {},
   "source": [
    "## Derivative approximation\n",
    "\n",
    "Finite difference methods are a technique for obtaining numerical solutions of PDEs. \n",
    "The idea underlying finite-difference methods is to replace the partial derivatives occurring in the PDE by finite difference approximations. If we assume that $V$ is a smooth function, we can use the Taylor series expansion near the point of interest.\n",
    "For a $\\Delta t > 0$ we can write\n",
    "\n",
    "\\begin{equation}\n",
    " V(t+\\Delta t,x) \\approx V(t,x) + \\frac{\\partial V(t,x)}{\\partial t} \\Delta t + \\frac{1}{2} \\frac{\\partial^2 V(t,x)}{\\partial t^2} \\Delta t^2 + \\mathcal{O}(\\Delta t^3).\n",
    "\\end{equation}\n",
    "\\begin{equation}\n",
    " V(t-\\Delta t,x) \\approx V(t,x) - \\frac{\\partial V(t,x)}{\\partial t} \\Delta t + \\frac{1}{2} \\frac{\\partial^2 V(t,x)}{\\partial t^2} \\Delta t^2 + \\mathcal{O}(\\Delta t^3).\n",
    "\\end{equation}\n",
    "\n",
    "An analogous approximation can be done for $V(t,x+\\Delta x)$ with $\\Delta x > 0$.\n",
    "\n",
    "If we want to approximate the partial derivative with respect to time, we obtain the following finite difference approximation\n",
    "\n",
    "\\begin{equation}\n",
    " \\frac{\\partial V(t,x)}{\\partial t} \\approx \\frac{V(t+\\Delta t,x) - V(t,x)}{\\Delta t} + \\mathcal{O}(\\Delta t)\n",
    "\\end{equation}\n",
    "\n",
    "also called **forward difference**, since the differencing is in the forward $t$ direction.\n",
    "We can also consider the **backward difference**\n",
    "\n",
    "\\begin{equation}\n",
    " \\frac{\\partial V(t,x)}{\\partial t} \\approx \\frac{V(t,x) - V(t-\\Delta t,x)}{\\Delta t} + \\mathcal{O}(\\Delta t)\n",
    "\\end{equation}\n",
    "\n",
    "and the **central difference**\n",
    "\n",
    "\\begin{equation}\n",
    " \\frac{\\partial V(t,x)}{\\partial t} \\approx \\frac{V(t+\\Delta t,x) - V(t-\\Delta t,x)}{2 \\Delta t} + \\mathcal{O}(\\Delta t^2).\n",
    "\\end{equation}\n",
    "\n",
    "The use of the forward and backward difference approximation leads to the **explicit** and **implicit** finite difference \n",
    "schemes respectively. The central difference is not used for the time variable because it leads to bad numerical schemes.\n",
    "But it is common to use it for the space variable.\n",
    "\n",
    "For second order derivatives, such as $\\partial^2 V(t,x)/\\partial x^2$, we can use the symmetric central difference approximation for a $\\Delta x > 0$:\n",
    "\n",
    "\\begin{equation}\n",
    " \\frac{\\partial^2 V(t,x)}{\\partial x^2} \\approx \\frac{V(t,x+\\Delta x) + V(t,x-\\Delta x) - 2V(t,x)}{ \\Delta x^2} + \\mathcal{O}(\\Delta x^2).\n",
    "\\end{equation}\n",
    "\n",
    "If you need more details, have a look at [2]."
   ]
  },
  {
   "cell_type": "markdown",
   "metadata": {},
   "source": [
    "<a id='sec1.2'></a>\n",
    "## Implicit discretization\n",
    "\n",
    "\n",
    "First we have to restrict the theoretical infinite domain to the finite region $[t_0,T]\\, \\times \\, [A_1,A_2]$, with $A_1 < A_2$. \n",
    "\n",
    "The next step is to replace $[t_0,T]\\times [A_1,A_2]$ by a discrete grid:\n",
    "\n",
    "For $n = 0,1, ... N \\in \\mathbb{N}$, define the discrete time step $ \\Delta t = \\frac{T - t_0}{N} $ such that\n",
    "$t_n = t_0 + n \\Delta t$. For $i = 0,1, ... M \\in \\mathbb{N}$, define the discrete space step $ \\Delta x = \\frac{A_2 - A_1}{M} $ such that\n",
    "$x_i = A_1 + i \\Delta x$.\n",
    "\n",
    "The grid is divided into equally spaced nodes of distance $\\Delta x$ in the x-axis, and of distance $\\Delta t$ in the t-axis.\n",
    "\n",
    "The mesh points have the form $(t_0 + n \\Delta t, A_1 + i \\Delta x)$.\n",
    "At this point we concern ourselves only with the values of $V(t,x)$ on the mesh nodes. We call \n",
    "\n",
    "$$ V(t_0 + n \\Delta t, A_1 + i \\Delta x) = V^n_i .$$\n",
    "\n",
    "We apply the backward discretization (implicit scheme) for the time derivative, and a central discretization for the first order space derivative.  \n",
    "\n",
    "We are interested in the value of V at time $t_0$. We know the values $V^N$ corresponding to the terminal conditions. The algorithm consists in finding the values $V^n$ given the knowledge of the values $V^{n+1}$. \n",
    "\n",
    "**Comment:**\n",
    " A common practice is to invert the time flow i.e. introducing a new time variable $\\tau = -t$ and change the variables in the PDE. It follows that the terminal conditions become initial conditions, and the problem becomes a forward problem. However, I am not using this change of variable in this notebook.\n",
    "\n",
    "The discretized equation becomes\n",
    "\n",
    "$$ \\begin{aligned}\n",
    "\\frac{V^{n+1}_{i} -V^{n}_{i}}{\\Delta t} + \n",
    "(r-\\frac{1}{2}\\sigma^2) \\frac{V^{n}_{i+1} -V^{n}_{i-1}}{ 2 \\Delta x}\n",
    "+ \\frac{1}{2} \\sigma^2 \\frac{V^{n}_{i+1} + V^{n}_{i-1} - 2 V^{n}_{i}}{\\Delta x^2}  - r V^{n}_i = 0.\n",
    "\\end{aligned}$$\n",
    "\n",
    "Rearranging the terms: \n",
    "\n",
    "$$ \\begin{aligned}\n",
    " V^{n+1}_{i} &= V^{n}_{i} \\biggl( 1 + r\\Delta t + \\sigma^2 \\frac{\\Delta t}{\\Delta x^2} \\biggr)  \\\\\n",
    "& + V^{n}_{i+1} \\biggl( -(r -\\frac{1}{2}\\sigma^2)\\frac{\\Delta t}{2 \\Delta x} -\n",
    "\\frac{1}{2}\\sigma^2 \\frac{\\Delta t}{\\Delta x^2}  \\biggr)  \\\\\n",
    "& + V^{n}_{i-1} \\biggl( (r -\\frac{1}{2}\\sigma^2)\\frac{\\Delta t}{2 \\Delta x} - \n",
    "\\frac{1}{2}\\sigma^2 \\frac{\\Delta t}{\\Delta x^2}  \\biggr).\n",
    "\\end{aligned} $$\n",
    "\n",
    "We can rename the coefficients such that:   \n",
    "\n",
    "$$ V^{n+1}_{i} = a V^{n}_{i-1} + b V^{n}_{i} + c V^{n}_{i+1}, $$\n",
    "\n",
    "and write it in matrix form:\n",
    "\n",
    "$$\n",
    "\\left(\n",
    "\\begin{array}{c}\n",
    "V^{n+1}_{1} \\\\\n",
    "V^{n+1}_{2} \\\\\n",
    "\\vdots \\\\\n",
    "V^{n+1}_{M-2} \\\\\n",
    "V^{n+1}_{M-1} \\\\\n",
    "\\end{array}\n",
    "\\right) = \n",
    "\\underbrace{\n",
    "\\left(\n",
    "\\begin{array}{ccccc}\n",
    "b     & c  & 0 & \\cdots  & 0 \\\\\n",
    "a     & b  & c & 0  & 0  \\\\\n",
    "0      & \\ddots & \\ddots &   \\ddots     & 0  \\\\\n",
    "\\vdots & 0 & a & b  & c  \\\\\n",
    "0      & 0 & 0 & a  & b \\\\\n",
    "\\end{array}\n",
    "\\right) }_{\\mathcal{D}} \\cdot\n",
    "\\left(\n",
    "\\begin{array}{c}\n",
    "V^{n}_{1} \\\\\n",
    "V^{n}_{2} \\\\\n",
    "\\vdots \\\\\n",
    "V^{n}_{M-2} \\\\\n",
    "V^{n}_{M-1} \n",
    "\\end{array}\n",
    "\\right)\n",
    "+ \\underbrace{\n",
    "\\left(\n",
    "\\begin{array}{c}\n",
    " a V^{n}_{0} \\\\\n",
    "  0 \\\\\n",
    " \\vdots \\\\\n",
    " 0 \\\\\n",
    "c V^{n}_{M} \\\\\n",
    "\\end{array}\n",
    "\\right) }_{\\mbox{B (boundary terms)}}\n",
    "$$\n",
    "\n",
    "The system \n",
    "\n",
    "$$ V^{n+1} = \\mathcal{D} V^{n} + B $$\n",
    "\n",
    "can be solved easily for $V^{n}$ by inverting the matrix $\\mathcal{D}$.\n"
   ]
  },
  {
   "cell_type": "markdown",
   "metadata": {},
   "source": [
    "<a id='sec2'></a>\n",
    "## Introduction to sparse matrices \n",
    "\n",
    "A [*sparse matrix*](https://en.wikipedia.org/wiki/Sparse_matrix) is a matrix in which most of the entries are zeros.\n",
    "\n",
    "If most of the elements are nonzero, then the matrix is considered *dense*.\n",
    "\n",
    "A dense matrix is typically stored as a two-dimensional array. Each entry in the array represents an element of the matrix and is accessed by the two indices i and j.\n",
    "\n",
    "Since a sparse matrix is almost empthy, storing all the zeros is a waste of memory. For this reason it is more efficient to use different data structures from the usual 2D arrays. More information on these can be found in the wiki page. \n",
    "\n",
    "Have a look at the manual page of the **scipy.sparse** library. [link](https://docs.scipy.org/doc/scipy/reference/sparse.html).\n",
    "\n",
    "There are many ways to represent a sparse matrix, Scipy provides seven of them:\n",
    "- Block Sparse Row (BSR)\n",
    "- Coordinate list (COO)\n",
    "- Compressed Sparse Column (CSC)\n",
    "- Compressed Sparse Row (CSR)\n",
    "- DIAgonal storage (DIA)\n",
    "- Dictionary Of Keys (DOK)\n",
    "- List of lists (LIL)\n",
    "\n",
    "Each format has its pros and cons. But we can roughly divide them in two groups: \n",
    "- CSR and CSC are better for efficient matrix operations.\n",
    "- All the others are better for the initial construction the sparse matrix.\n",
    "\n",
    "The good thing is that it is very easy to convert one representation into one other. Here I pasted some recomandations from the scipy manual page:\n",
    "\n",
    "*To construct a matrix efficiently, use either dok_matrix or lil_matrix. The lil_matrix class supports basic slicing and fancy indexing with a similar syntax to NumPy arrays. The COO format may also be used to efficiently construct matrices. Despite their similarity to NumPy arrays, it is strongly discouraged to use NumPy functions directly on these matrices because NumPy may not properly convert them for computations, leading to unexpected (and incorrect) results. If you do want to apply a NumPy function to these matrices, first check if SciPy has its own implementation for the given sparse matrix class, or convert the sparse matrix to a NumPy array (e.g. using the toarray() method of the class) first before applying the method.\n",
    "To perform manipulations such as multiplication or inversion, first convert the matrix to either CSC or CSR format. The lil_matrix format is row-based, so conversion to CSR is efficient, whereas conversion to CSC is less so.\n",
    "All conversions among the CSR, CSC, and COO formats are efficient, linear-time operations.*\n",
    "\n"
   ]
  },
  {
   "cell_type": "markdown",
   "metadata": {},
   "source": [
    "#### Example: Matrix multiplication and operations"
   ]
  },
  {
   "cell_type": "code",
   "execution_count": null,
   "metadata": {},
   "outputs": [],
   "source": [
    "np.random.seed(seed=44)\n",
    "dense_mat = np.random.binomial(n=1, p=0.1, size=(5, 5))    # Sparse matrix stored as a dense matrix\n",
    "dense_mat[2,1] = 3\n",
    "sparse_mat = sparse.csr_matrix(dense_mat)    # Sparse matrix stored as a CSR sparse matrix\n",
    "\n",
    "display_matrix(sparse_mat.toarray())\n",
    "print(\"CSR representation:  (ordered by rows)\")\n",
    "sympy.pprint(sparse_mat)\n",
    "print(\"CSC representation:  (ordered by columns)\")\n",
    "sympy.pprint(sparse_mat.tocsc())"
   ]
  },
  {
   "cell_type": "markdown",
   "metadata": {},
   "source": [
    "Feel free to convert the sparse matrix into a different representations and pprint it.\n",
    "\n",
    "Now let's see some math operations. "
   ]
  },
  {
   "cell_type": "code",
   "execution_count": null,
   "metadata": {},
   "outputs": [],
   "source": [
    "two_dense = 2 * np.ones(shape=(5,2), dtype=np.int32)   # Example of dense matrix\n",
    "range_dense = np.reshape(np.array([i for i in range(1,11)]),(2,5)) # Second example of dense matrix\n",
    "\n",
    "# The product is a dense matrix\n",
    "display_matrix(sparse_mat @ two_dense)\n",
    "display_matrix(range_dense @ sparse_mat)"
   ]
  },
  {
   "cell_type": "markdown",
   "metadata": {},
   "source": [
    "Depending on what you prefer to use, you can call *toarray* or *todense* to convert the sparse matrix in a np.array or in a np.matrix. \n",
    "\n",
    "Be careful because the the ***** operator represents the element-wise product for numpy arrays and the scalar product for the numpy matrices.\n",
    "\n",
    "I prefer to use the numpy arrays, and therefore I will use the **@** operator for the scalar product operation. This operator handles very well hybrid multiplications between sparse and dense matrices. "
   ]
  },
  {
   "cell_type": "code",
   "execution_count": null,
   "metadata": {},
   "outputs": [],
   "source": [
    "print(type(sparse_mat.toarray()))\n",
    "print(type(sparse_mat.todense()))"
   ]
  },
  {
   "cell_type": "markdown",
   "metadata": {},
   "source": [
    "#### Example: Diagonal matrices\n",
    "A diagonal matrix can be initialized as follows, by giving as the second argument a list of diagonals to be filled, and as first argument the list of values in the respective diagonal. (enter ```sparse.diags??``` in a cell for more information)."
   ]
  },
  {
   "cell_type": "code",
   "execution_count": null,
   "metadata": {},
   "outputs": [],
   "source": [
    "diagonal = sparse.diags([-2, 1, 5], [-1, 0, 1], shape=(5, 5))\n",
    "display_matrix(diagonal.toarray())\n",
    "print(\"The representation type of the diagonal matrix is: \", type(diagonal))\n",
    "sympy.pprint(diagonal)"
   ]
  },
  {
   "cell_type": "markdown",
   "metadata": {},
   "source": [
    "#### Example: Solving the linear system:       \n",
    "$$A x = b$$\n",
    "\n",
    "- **Using spsolve**\n",
    "\n",
    "- **Using splu** (based on LU decomposition [link](https://en.wikipedia.org/wiki/LU_decomposition) )\n",
    "\n",
    "A *SparseEfficiencyWarning* is raised if the sparse matrix is not converted in the most efficient format.\n",
    "So it is better to convert from \"dia\" to \"csr\"."
   ]
  },
  {
   "cell_type": "code",
   "execution_count": null,
   "metadata": {},
   "outputs": [],
   "source": [
    "A = 3 * sparse.eye(5)\n",
    "x = np.array([[i] for i in range(1,6)])\n",
    "b = A @ x\n",
    "\n",
    "print(\"The unknown 'x' is exactly what we expected:\")\n",
    "# Solution by spsolve\n",
    "display_matrix(spsolve(A.tocsr(),b))\n",
    "\n",
    "# Solution by LU decomposition\n",
    "A_LU = splu(A.tocsc())\n",
    "display_matrix(A_LU.solve(b))"
   ]
  },
  {
   "cell_type": "markdown",
   "metadata": {},
   "source": [
    "<a id='sec3'></a>\n",
    "## Numerical solution of the PDE\n",
    "\n",
    "Ok, let us solve the vector equation derived in the section [\"Implicit discretization\"](#sec1.2).\n",
    "\n",
    "In this case we consider a call option with strike $K$, maturity $T$. The stock price $S_0$ is not relevant for the algorithm. We will use it in the end to compute the value of the option for $S_0$.\n",
    "\n",
    "A common practice is to choose the computational region between $3K$ and $K/3$. Then we have $A_1 = \\log K/3$ and $A_2 = \\log 3K$.\n",
    "\n",
    "The values of the parameter are:"
   ]
  },
  {
   "cell_type": "code",
   "execution_count": null,
   "metadata": {},
   "outputs": [],
   "source": [
    "r = 0.1; sig = 0.2                \n",
    "S0 = 100; X0 = np.log(S0)          \n",
    "K = 100; Texpir = 1            "
   ]
  },
  {
   "cell_type": "code",
   "execution_count": null,
   "metadata": {},
   "outputs": [],
   "source": [
    "Nspace = 3000   # M space steps\n",
    "Ntime = 2000    # N time steps   \n",
    "\n",
    "S_max = 3*float(K)                \n",
    "S_min = float(K)/3\n",
    "\n",
    "x_max = np.log(S_max)  # A2\n",
    "x_min = np.log(S_min)  # A1"
   ]
  },
  {
   "cell_type": "code",
   "execution_count": null,
   "metadata": {},
   "outputs": [],
   "source": [
    "x, dx = np.linspace(x_min, x_max, Nspace, retstep=True)   # space discretization\n",
    "T, dt = np.linspace(0, Texpir, Ntime, retstep=True)       # time discretization\n",
    "Payoff = np.maximum(np.exp(x)-K,0)          # Call payoff"
   ]
  },
  {
   "cell_type": "code",
   "execution_count": null,
   "metadata": {},
   "outputs": [],
   "source": [
    "V = np.zeros((Nspace,Ntime))       # grid initialization\n",
    "offset = np.zeros(Nspace-2)        # vector to be used for the boundary terms   \n",
    "\n",
    "V[:,-1] = Payoff                   # terminal conditions \n",
    "V[-1,:] = np.exp(x_max) - K * np.exp(-r* T[::-1] )  # boundary condition\n",
    "V[0,:] = 0                         # boundary condition"
   ]
  },
  {
   "cell_type": "code",
   "execution_count": null,
   "metadata": {},
   "outputs": [],
   "source": [
    "# construction of the tri-diagonal matrix D\n",
    "sig2 = sig*sig; dxx = dx * dx\n",
    "\n",
    "a = ( (dt/2) * ( (r-0.5*sig2)/dx - sig2/dxx ) )\n",
    "b = ( 1 + dt * ( sig2/dxx + r ) )\n",
    "c = (-(dt/2) * ( (r-0.5*sig2)/dx + sig2/dxx ) )\n",
    "\n",
    "D = sparse.diags([a, b, c], [-1, 0, 1], shape=(Nspace-2, Nspace-2)).tocsc()"
   ]
  },
  {
   "cell_type": "code",
   "execution_count": null,
   "metadata": {},
   "outputs": [],
   "source": [
    "# Backward iteration\n",
    "for i in range(Ntime-2,-1,-1):\n",
    "    offset[0] = a * V[0,i]\n",
    "    offset[-1] = c * V[-1,i]; \n",
    "    V[1:-1,i] = spsolve( D, (V[1:-1,i+1] - offset) )    "
   ]
  },
  {
   "cell_type": "markdown",
   "metadata": {},
   "source": [
    "## Comment:\n",
    "\n",
    "You may be tempted to think: \n",
    "\n",
    "*Why not calculating the inverse of the matrix **D**? Something like this:*\n",
    "\n",
    "```python\n",
    "from scipy.sparse.linalg import inv\n",
    "Dinv = inv(D)\n",
    "# and inside the block of the backward iteration substitute\n",
    "V[1:-1,i] = Dinv * (V[1:-1,i+1] - offset)\n",
    "```\n",
    "\n",
    "Well... you can try... It works, but it is very slow!  \n",
    "\n",
    "The reason is that **inv** computes the sparse inverse of A (using the same spsolve method). However the inverse of a tridiagonal matrix, in general, is not sparse!!  \n",
    "For this reason, all the efficiency gained by using scipy.sparse is lost.\n",
    "\n",
    "We will see very soon that the right approach is instead to use **splu**."
   ]
  },
  {
   "cell_type": "markdown",
   "metadata": {},
   "source": [
    "## Here we are!\n",
    "\n",
    "we can now find the value for $S_0 = 100$ and plot the curve at $t_0$."
   ]
  },
  {
   "cell_type": "code",
   "execution_count": null,
   "metadata": {},
   "outputs": [],
   "source": [
    "# finds the option at S0\n",
    "oPrice = np.interp(X0, x, V[:,0])\n",
    "print(oPrice)"
   ]
  },
  {
   "cell_type": "code",
   "execution_count": null,
   "metadata": {},
   "outputs": [],
   "source": [
    "S = np.exp(x)\n",
    "fig = plt.figure(figsize=(15,6))\n",
    "ax1 = fig.add_subplot(121)\n",
    "ax2 = fig.add_subplot(122, projection='3d')\n",
    "\n",
    "ax1.plot(S, Payoff, color='blue',label=\"Payoff\")\n",
    "ax1.plot(S, V[:,0], color='red',label=\"BS curve\")\n",
    "ax1.set_xlim(60,170); ax1.set_ylim(0,50)\n",
    "ax1.set_xlabel(\"S\"); ax1.set_ylabel(\"price\")\n",
    "ax1.legend(loc='upper left'); ax1.set_title(\"BS price at t=0\")\n",
    "\n",
    "X, Y = np.meshgrid(T, S)\n",
    "ax2.plot_surface(Y, X, V, cmap=cm.ocean)\n",
    "ax2.set_title(\"BS price surface\")\n",
    "ax2.set_xlabel(\"S\"); ax2.set_ylabel(\"t\"); ax2.set_zlabel(\"V\")\n",
    "ax2.view_init(30, -100) # this function rotates the 3d plot\n",
    "plt.show()"
   ]
  },
  {
   "cell_type": "markdown",
   "metadata": {},
   "source": [
    "In the class BS_pricer more methods are implemented. Let us have a look:"
   ]
  },
  {
   "cell_type": "code",
   "execution_count": null,
   "metadata": {},
   "outputs": [],
   "source": [
    "from functions.Parameters import Option_param\n",
    "from functions.Processes import Diffusion_process\n",
    "from functions.BS_pricer import BS_pricer\n",
    "\n",
    "# Creates the object with the parameters of the option\n",
    "opt_param = Option_param(S0=100, K=100, T=1, exercise=\"European\", payoff=\"call\" )\n",
    "\n",
    "# Creates the object with the parameters of the process\n",
    "diff_param = Diffusion_process(r=0.1, sig=0.2)\n",
    "\n",
    "# Creates the object of the pricer\n",
    "BS = BS_pricer(opt_param, diff_param)"
   ]
  },
  {
   "cell_type": "markdown",
   "metadata": {},
   "source": [
    "By default the method PDE_price uses the LU solver. Let us compare the execution times of three implementations:\n",
    "- splu\n",
    "- Thomas: I wrote a wrapper of a LAPACK function.  [code](./functions/Solvers.py)\n",
    "- spsolve\n",
    "- SOR: I wrote the SOR solver in cython, such that it would be easily integrated with the python code. However it is still very slow. [Cython code](./functions/cython/cython_functions.pyx)\n",
    "  From this cell it is also not possible to modify the SOR parameters (if you want to modify it, you need to enter the *BS.PDE_price* method in [BS_pricer class](./functions/BS_pricer.py) ). \n",
    "  \n",
    "The SOR and Thomas algorithms are explained in the notebook **A1** and the code optimization for the SOR algorithm is the topic of the notebook **A2**. Further comparisons (with cython and C code) are in the notebook A2."
   ]
  },
  {
   "cell_type": "code",
   "execution_count": null,
   "metadata": {},
   "outputs": [],
   "source": [
    "print(\"Price: {0:.6f} Time: {1:.6f}\".format(*BS.PDE_price((5000,4000), Time=True, solver=\"splu\")))\n",
    "print(\"Price: {0:.6f} Time: {1:.6f}\".format(*BS.PDE_price((5000,4000), Time=True, solver=\"Thomas\")))\n",
    "print(\"Price: {0:.6f} Time: {1:.6f}\".format(*BS.PDE_price((5000,4000), Time=True, solver=\"spsolve\")))\n",
    "print(\"Price: {0:.6f} Time: {1:.6f}\".format(*BS.PDE_price((5000,4000), Time=True, solver=\"SOR\")))"
   ]
  },
  {
   "cell_type": "markdown",
   "metadata": {},
   "source": [
    "**Thomas and SPLU are super fast!!!**\n",
    "\n",
    "\n",
    "A put option can be priced by changing the terminal and boudary conditions. You can read the implementation code inside \"BS_pricer\"."
   ]
  },
  {
   "cell_type": "code",
   "execution_count": 5,
   "metadata": {},
   "outputs": [
    {
     "name": "stdout",
     "output_type": "stream",
     "text": [
      "price:  3.753265403553101\n"
     ]
    },
    {
     "data": {
      "image/png": "[encoded data removed]",
      "text/plain": [
       "<Figure size 432x288 with 1 Axes>"
      ]
     },
     "metadata": {
      "needs_background": "light"
     },
     "output_type": "display_data"
    }
   ],
   "source": [
    "put_param = Option_param(S0=100, K=100, T=1, exercise=\"European\", payoff=\"put\" )\n",
    "# Creates the object of the put pricer\n",
    "put = BS_pricer(put_param, diff_param)\n",
    "print(\"price: \", put.PDE_price((5000,4000)))\n",
    "put.plot(axis=[50,140,0,50])"
   ]
  },
  {
   "cell_type": "markdown",
   "metadata": {},
   "source": [
    "### References\n",
    "\n",
    "[1] Björk Tomas (2009). Arbitrage theory in continuous time, Oxford Financial Press. \n",
    "\n",
    "[2] Wilmott Paul (1994). Option pricing: Mathematical models and computation. Oxford Financial Press."
   ]
  }
 ],
 "metadata": {
  "kernelspec": {
   "display_name": "Python 3 (ipykernel)",
   "language": "python",
   "name": "python3"
  },
  "language_info": {
   "codemirror_mode": {
    "name": "ipython",
    "version": 3
   },
   "file_extension": ".py",
   "mimetype": "text/x-python",
   "name": "python",
   "nbconvert_exporter": "python",
   "pygments_lexer": "ipython3",
   "version": "3.9.7"
  }
 },
 "nbformat": 4,
 "nbformat_minor": 2
}
