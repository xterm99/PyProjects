{
 "cells": [
  {
   "cell_type": "markdown",
   "id": "ff3788d0",
   "metadata": {},
   "source": [
    "## Approximation of linear and non-linear ODE's through IMPLICIT methods.\n",
    "-------\n",
    "### Introduction and objective\n",
    "Exact and analytic solutions are of great educational, academic, theoretical, comprehension and validation value, but their quantitative results for a given practical problem at hand are at best approximate due to an inevitable mismatch between ideal theory and observable reality. \n",
    "\n",
    "In practice, when quantitative results for a given real-world problem are required, the numerically approximate estimation may often be demonstrably better (more accurate, faster, comprehensive, correct, exhaustive, efficient, cost-effective, etc.) than the analytical.\n",
    "\n",
    "Our aim will be to Implement two implicit solvers, the Backward Euler method and Crank Nicholson (Midpoint method), to later study the convergence order and to compare the methods using a non-linear 2x2 ODE system. We will use the same system as in the previous projects to be able to compare the methods correctly."
   ]
  },
  {
   "cell_type": "code",
   "execution_count": 1,
   "id": "104629a5",
   "metadata": {},
   "outputs": [],
   "source": [
    "# import the libraries needed for the hole assignment.\n",
    "import numpy as np\n",
    "from math import e\n",
    "from matplotlib import pyplot as plt\n",
    "from numpy import zeros, array, exp\n",
    "from numpy.linalg import norm\n",
    "import numpy as np\n",
    "\n",
    "# Past Functions\n",
    "def evolve(phi,f,Df, t0,y0, T,N):\n",
    "    h = T/N\n",
    "    y = np.zeros([N+1, len(y0)])\n",
    "    y[0] = y0\n",
    "    t = 0\n",
    "    for i in range(N):\n",
    "        y[i+1] = phi(f,Df, t,y[i], h)\n",
    "        t = t+h\n",
    "    return y\n",
    "\n",
    "# Define The Ralston Method\n",
    "# Note that we store the value of f(t0, y0) into the variable F, \n",
    "#to optimize the numbers of calls to the function from 2 to 1. \n",
    "def ralstonMethod(f,Df, t0,y0, h):\n",
    "    F = f(t0, y0)\n",
    "    F2 = f(t0 + (2*h)/3, y0 + (2/3)*h*F)\n",
    "    return y0 + (h/4) * (F + 3*F2)\n",
    "\n",
    "# Define the Forward Euler and Ralston method.\n",
    "def forwardEuler( f,Df, t0,y0, h):\n",
    "    return y0 + h*f(t0,y0)\n",
    "\n",
    "def ralstonMethod(f,Df, t0,y0, h):\n",
    "    F = f(t0, y0)\n",
    "    F2 = f(t0 + (2*h)/3, y0 + (2/3)*h*F)\n",
    "    return y0 + (h/4) * (F + 3*F2)\n",
    "\n",
    "#EOC function\n",
    "def computeEocs( herr ):\n",
    "    # herr = ( (h1,e1),(h2,e2),...,(hm,em) )\n",
    "    m = len(herr)\n",
    "    eocs = np.zeros( m-1 )\n",
    "    for i in range(m-1):\n",
    "        eocs[i] = np.log(herr[i+1,1]/herr[i,1] ) /\\\n",
    "                  np.log(herr[i+1,0]/herr[i,0] );\n",
    "    return eocs"
   ]
  },
  {
   "cell_type": "markdown",
   "id": "e1e0456e",
   "metadata": {},
   "source": [
    "### Solving the implicit problem with Newton-Raphson Algorithm. \n",
    "The main difference between explicit and implicit schemes is that the later ones require finding the root of an implcict equation to compute the value of $y_{n+1}$. To solve this issue we are going to implement a function that implements Newton-Raphson root finding Algorithm. The inputs will be, the vector valued function F,  its Jacobian, and the initial guess x0 are as arguments together with a tolerance ϵ. The Algorithm should return the first element xk in the sequence:\n",
    "$$x_{k+1}=x_k−DF^{−1}(x_k)F(x_k)$$\n",
    "which satisfies $|F(x_k)|<ϵ$ using the standard Euclidean norm.\n",
    "\n",
    "Note: To avoid an infinite loop in case Newton's method does not converge stop the method after computing the first K iterates. In addition to $x_k$ also return the number k of iterations performed. So convergence of the method can be tested by checking $k<K$."
   ]
  },
  {
   "cell_type": "code",
   "execution_count": 2,
   "id": "e8068213",
   "metadata": {},
   "outputs": [],
   "source": [
    "# Define the Newton Method.\n",
    "def newton (F, DF, x0, eps, K):\n",
    "    for k in range(K):\n",
    "            fvec = F(x0)\n",
    "            D = DF(x0)\n",
    "            x = x0 - np.linalg.solve(D, fvec)\n",
    "            if np.linalg.norm(fvec) < eps:\n",
    "                return x, k\n",
    "            x0 = x\n",
    "            if k == K-1:\n",
    "                return x, k+1"
   ]
  },
  {
   "cell_type": "markdown",
   "id": "20b9a894",
   "metadata": {},
   "source": [
    "### Defining The Numerical schemes:Backward Euler Method Method and Crank Nicholson\n",
    "To apply Newton's Algorithm to Backard Euler Method $y1$ we can for example define the function F as\n",
    "$$F(δ)=δ−f(t_0+h,y_0+hδ)$$\n",
    "\n",
    "so that $y_1=y_0+hδ$.For Newton's method you need the Jacobian of $F:R^m→R^m$, which by the Chain Rule.\n",
    "\n",
    "$$DF(δ)=I_m−h∂yf(t_0+h,y_0+hδ)$$\n",
    "\n",
    "where $I_m$ is the identity matrix. Following the same argument we can define $F$ and $DF$ as written in the implementation."
   ]
  },
  {
   "cell_type": "markdown",
   "id": "791291fa",
   "metadata": {},
   "source": [
    "\n"
   ]
  },
  {
   "cell_type": "code",
   "execution_count": 3,
   "id": "e44d06d8",
   "metadata": {},
   "outputs": [],
   "source": [
    "def midpointmethod( f_user,Df, t0,y0, h):\n",
    "    F =  lambda delta: delta-f_user(t0+h/2,y0+(h*delta)/2)\n",
    "    DF = lambda delta: np.eye(len(y0))-h*df_user(t0+h/2,y0+(h*delta)/2)\n",
    "    delta,_ = newton(F,DF,f_user(t0+h,y0),h*h*1e-5,1000)\n",
    "    return y0+h*delta"
   ]
  },
  {
   "cell_type": "code",
   "execution_count": 4,
   "id": "d182718b",
   "metadata": {},
   "outputs": [],
   "source": [
    "def backwardEuler( f,Df, t0,y0, h):\n",
    "    # not good style but reduces polution of the global namespace when running the tests\n",
    "    from numpy import eye\n",
    "    F =  lambda delta: delta-f(t0+h,y0+h*delta)\n",
    "    DF = lambda delta: eye(len(y0))-h*Df(t0+h,y0+h*delta)\n",
    "    delta,_ = newton(F,DF,f(t0+h,y0),h*h*1e-5,1000)\n",
    "    return y0+h*delta"
   ]
  },
  {
   "cell_type": "markdown",
   "id": "61a968d2",
   "metadata": {},
   "source": [
    "### Setting Up the ODE Problem"
   ]
  },
  {
   "cell_type": "markdown",
   "id": "1395d65b",
   "metadata": {},
   "source": [
    " Problem setup for ODE\n",
    " $y'(t)=F(y(t))$ and $y(0)=y_0$ with right hand side\n",
    " $$ F(y_1,y_2) = \\left(\\begin{array}{cc} y_2 \\\\[1ex] y_2(\\lambda-2y_1) \\end{array}\\right) $$\n",
    " With $\\lambda=1$ and initial conditions $y_0=(2, -2)^T$ this has the exact solution\n",
    " $$ Y(t) = \\left(\\begin{array}{cc}\n",
    "      \\frac{2e^t}{2e^t-1} \\\\[2ex]\n",
    "      \\frac{-2e^{t}}{4e^{2t}-4e^t+1}\n",
    " \\end{array}\\right) $$\n",
    "We will solve this on the interval $[0,T]$."
   ]
  },
  {
   "cell_type": "code",
   "execution_count": 5,
   "id": "cae48c99",
   "metadata": {},
   "outputs": [],
   "source": [
    "T = 1\n",
    "Y = lambda t: array([2*exp(t)/(2*exp(t)-1),\n",
    "                     (-2*exp(t))/(4*exp(2*t)-4*exp(t)+1)])\n",
    "def f(t,y):\n",
    "    return array([y[1], y[1]*(1-2*y[0])])\n",
    "def Df(t,y):\n",
    "    return array([[0,1],[2*y[1],1-2*y[0]]])\n",
    "\n",
    "def df_user(t,y):\n",
    "    return np.array([[1],[1-2*y[0]]])"
   ]
  },
  {
   "cell_type": "markdown",
   "id": "3171b086",
   "metadata": {},
   "source": [
    "Simulations and Errors \n",
    "-----------\n",
    " \n",
    "Perform the simulation using the forwardEuler stepper"
   ]
  },
  {
   "cell_type": "code",
   "execution_count": 6,
   "id": "4dbf8d12",
   "metadata": {},
   "outputs": [],
   "source": [
    "def experiment(stepper):\n",
    "    M = 11\n",
    "    herr = zeros( [M,2] )\n",
    "    for m in range(M):\n",
    "        N = 20*2**m\n",
    "        y = evolve( stepper, f,Df, 0,Y(0),T, N)\n",
    "        herr[m] = [T/N, norm( y[-1]-Y(T) )]\n",
    "\n",
    "    eoc = computeEocs( herr )\n",
    "    eoc = np.hstack( [ [np.nan],eoc ] )\n",
    "    res = np.hstack( [herr, np.atleast_2d(eoc).T] )\n",
    "    return res"
   ]
  },
  {
   "cell_type": "code",
   "execution_count": 7,
   "id": "caace70c",
   "metadata": {},
   "outputs": [],
   "source": [
    "resMID = experiment(midpointmethod)"
   ]
  },
  {
   "cell_type": "code",
   "execution_count": 8,
   "id": "c34080e4",
   "metadata": {},
   "outputs": [],
   "source": [
    "resBE = experiment(midpointmethod)"
   ]
  },
  {
   "cell_type": "code",
   "execution_count": 9,
   "id": "0b2efab3",
   "metadata": {},
   "outputs": [
    {
     "data": {
      "text/html": [
       "<style type=\"text/css\">\n",
       "</style>\n",
       "<table id=\"T_71259_\">\n",
       "  <thead>\n",
       "    <tr>\n",
       "      <th class=\"blank level0\" >&nbsp;</th>\n",
       "      <th class=\"col_heading level0 col0\" >h</th>\n",
       "      <th class=\"col_heading level0 col1\" >BE-error</th>\n",
       "      <th class=\"col_heading level0 col2\" >BE-eoc</th>\n",
       "      <th class=\"col_heading level0 col3\" >MID-error</th>\n",
       "      <th class=\"col_heading level0 col4\" >MID-eoc</th>\n",
       "    </tr>\n",
       "  </thead>\n",
       "  <tbody>\n",
       "    <tr>\n",
       "      <th id=\"T_71259_level0_row0\" class=\"row_heading level0 row0\" >0</th>\n",
       "      <td id=\"T_71259_row0_col0\" class=\"data row0 col0\" >5.0000e-02</td>\n",
       "      <td id=\"T_71259_row0_col1\" class=\"data row0 col1\" >5.731941e-04</td>\n",
       "      <td id=\"T_71259_row0_col2\" class=\"data row0 col2\" >nan</td>\n",
       "      <td id=\"T_71259_row0_col3\" class=\"data row0 col3\" >5.731941e-04</td>\n",
       "      <td id=\"T_71259_row0_col4\" class=\"data row0 col4\" >nan</td>\n",
       "    </tr>\n",
       "    <tr>\n",
       "      <th id=\"T_71259_level0_row1\" class=\"row_heading level0 row1\" >1</th>\n",
       "      <td id=\"T_71259_row1_col0\" class=\"data row1 col0\" >2.5000e-02</td>\n",
       "      <td id=\"T_71259_row1_col1\" class=\"data row1 col1\" >1.431922e-04</td>\n",
       "      <td id=\"T_71259_row1_col2\" class=\"data row1 col2\" >2.001</td>\n",
       "      <td id=\"T_71259_row1_col3\" class=\"data row1 col3\" >1.431922e-04</td>\n",
       "      <td id=\"T_71259_row1_col4\" class=\"data row1 col4\" >2.001</td>\n",
       "    </tr>\n",
       "    <tr>\n",
       "      <th id=\"T_71259_level0_row2\" class=\"row_heading level0 row2\" >2</th>\n",
       "      <td id=\"T_71259_row2_col0\" class=\"data row2 col0\" >1.2500e-02</td>\n",
       "      <td id=\"T_71259_row2_col1\" class=\"data row2 col1\" >3.579142e-05</td>\n",
       "      <td id=\"T_71259_row2_col2\" class=\"data row2 col2\" >2.000</td>\n",
       "      <td id=\"T_71259_row2_col3\" class=\"data row2 col3\" >3.579142e-05</td>\n",
       "      <td id=\"T_71259_row2_col4\" class=\"data row2 col4\" >2.000</td>\n",
       "    </tr>\n",
       "    <tr>\n",
       "      <th id=\"T_71259_level0_row3\" class=\"row_heading level0 row3\" >3</th>\n",
       "      <td id=\"T_71259_row3_col0\" class=\"data row3 col0\" >6.2500e-03</td>\n",
       "      <td id=\"T_71259_row3_col1\" class=\"data row3 col1\" >8.947439e-06</td>\n",
       "      <td id=\"T_71259_row3_col2\" class=\"data row3 col2\" >2.000</td>\n",
       "      <td id=\"T_71259_row3_col3\" class=\"data row3 col3\" >8.947439e-06</td>\n",
       "      <td id=\"T_71259_row3_col4\" class=\"data row3 col4\" >2.000</td>\n",
       "    </tr>\n",
       "    <tr>\n",
       "      <th id=\"T_71259_level0_row4\" class=\"row_heading level0 row4\" >4</th>\n",
       "      <td id=\"T_71259_row4_col0\" class=\"data row4 col0\" >3.1250e-03</td>\n",
       "      <td id=\"T_71259_row4_col1\" class=\"data row4 col1\" >2.236834e-06</td>\n",
       "      <td id=\"T_71259_row4_col2\" class=\"data row4 col2\" >2.000</td>\n",
       "      <td id=\"T_71259_row4_col3\" class=\"data row4 col3\" >2.236834e-06</td>\n",
       "      <td id=\"T_71259_row4_col4\" class=\"data row4 col4\" >2.000</td>\n",
       "    </tr>\n",
       "    <tr>\n",
       "      <th id=\"T_71259_level0_row5\" class=\"row_heading level0 row5\" >5</th>\n",
       "      <td id=\"T_71259_row5_col0\" class=\"data row5 col0\" >1.5625e-03</td>\n",
       "      <td id=\"T_71259_row5_col1\" class=\"data row5 col1\" >5.592068e-07</td>\n",
       "      <td id=\"T_71259_row5_col2\" class=\"data row5 col2\" >2.000</td>\n",
       "      <td id=\"T_71259_row5_col3\" class=\"data row5 col3\" >5.592068e-07</td>\n",
       "      <td id=\"T_71259_row5_col4\" class=\"data row5 col4\" >2.000</td>\n",
       "    </tr>\n",
       "    <tr>\n",
       "      <th id=\"T_71259_level0_row6\" class=\"row_heading level0 row6\" >6</th>\n",
       "      <td id=\"T_71259_row6_col0\" class=\"data row6 col0\" >7.8125e-04</td>\n",
       "      <td id=\"T_71259_row6_col1\" class=\"data row6 col1\" >1.398016e-07</td>\n",
       "      <td id=\"T_71259_row6_col2\" class=\"data row6 col2\" >2.000</td>\n",
       "      <td id=\"T_71259_row6_col3\" class=\"data row6 col3\" >1.398016e-07</td>\n",
       "      <td id=\"T_71259_row6_col4\" class=\"data row6 col4\" >2.000</td>\n",
       "    </tr>\n",
       "    <tr>\n",
       "      <th id=\"T_71259_level0_row7\" class=\"row_heading level0 row7\" >7</th>\n",
       "      <td id=\"T_71259_row7_col0\" class=\"data row7 col0\" >3.9063e-04</td>\n",
       "      <td id=\"T_71259_row7_col1\" class=\"data row7 col1\" >3.495040e-08</td>\n",
       "      <td id=\"T_71259_row7_col2\" class=\"data row7 col2\" >2.000</td>\n",
       "      <td id=\"T_71259_row7_col3\" class=\"data row7 col3\" >3.495040e-08</td>\n",
       "      <td id=\"T_71259_row7_col4\" class=\"data row7 col4\" >2.000</td>\n",
       "    </tr>\n",
       "    <tr>\n",
       "      <th id=\"T_71259_level0_row8\" class=\"row_heading level0 row8\" >8</th>\n",
       "      <td id=\"T_71259_row8_col0\" class=\"data row8 col0\" >1.9531e-04</td>\n",
       "      <td id=\"T_71259_row8_col1\" class=\"data row8 col1\" >8.737601e-09</td>\n",
       "      <td id=\"T_71259_row8_col2\" class=\"data row8 col2\" >2.000</td>\n",
       "      <td id=\"T_71259_row8_col3\" class=\"data row8 col3\" >8.737601e-09</td>\n",
       "      <td id=\"T_71259_row8_col4\" class=\"data row8 col4\" >2.000</td>\n",
       "    </tr>\n",
       "    <tr>\n",
       "      <th id=\"T_71259_level0_row9\" class=\"row_heading level0 row9\" >9</th>\n",
       "      <td id=\"T_71259_row9_col0\" class=\"data row9 col0\" >9.7656e-05</td>\n",
       "      <td id=\"T_71259_row9_col1\" class=\"data row9 col1\" >2.184398e-09</td>\n",
       "      <td id=\"T_71259_row9_col2\" class=\"data row9 col2\" >2.000</td>\n",
       "      <td id=\"T_71259_row9_col3\" class=\"data row9 col3\" >2.184398e-09</td>\n",
       "      <td id=\"T_71259_row9_col4\" class=\"data row9 col4\" >2.000</td>\n",
       "    </tr>\n",
       "    <tr>\n",
       "      <th id=\"T_71259_level0_row10\" class=\"row_heading level0 row10\" >10</th>\n",
       "      <td id=\"T_71259_row10_col0\" class=\"data row10 col0\" >4.8828e-05</td>\n",
       "      <td id=\"T_71259_row10_col1\" class=\"data row10 col1\" >5.460958e-10</td>\n",
       "      <td id=\"T_71259_row10_col2\" class=\"data row10 col2\" >2.000</td>\n",
       "      <td id=\"T_71259_row10_col3\" class=\"data row10 col3\" >5.460958e-10</td>\n",
       "      <td id=\"T_71259_row10_col4\" class=\"data row10 col4\" >2.000</td>\n",
       "    </tr>\n",
       "  </tbody>\n",
       "</table>\n"
      ],
      "text/plain": [
       "<pandas.io.formats.style.Styler at 0x20ad70d40a0>"
      ]
     },
     "execution_count": 9,
     "metadata": {},
     "output_type": "execute_result"
    }
   ],
   "source": [
    "res = np.hstack([resBE,resMID])\n",
    "import pandas as pd\n",
    "# columns of table\n",
    "columns=['h', 'BE-error', 'BE-eoc', 'MID-error','MID-eoc']\n",
    "# values in table\n",
    "keys = {columns[0]: resBE[:,0], columns[1]: resBE[:,1], columns[2]: resBE[:,2],\n",
    "                                columns[3]: resMID[:,1], columns[4]: resMID[:,2]}\n",
    "# generate table\n",
    "table = pd.DataFrame(keys, index=range(res.shape[0]),\n",
    "        columns=columns)\n",
    "# format floating points for each column\n",
    "table = table.style.format({columns[0]:'{:.4e}',\n",
    "                            columns[1]:'{:.6e}', columns[3]:'{:.6e}',\n",
    "                            columns[2]:'{:.3f}', columns[4]:'{:.3f}'})\n",
    "# print(table.to_latex()) # output result as latex table for inclusion in tex document\n",
    "table"
   ]
  },
  {
   "cell_type": "markdown",
   "id": "04e5ebbf",
   "metadata": {},
   "source": []
  },
  {
   "cell_type": "code",
   "execution_count": 10,
   "id": "094d2139",
   "metadata": {},
   "outputs": [],
   "source": [
    "# Set boundary conditions\n",
    "T = 1\n",
    "t_bar = 1/np.sqrt(2) "
   ]
  },
  {
   "cell_type": "code",
   "execution_count": 11,
   "id": "851a4cb6",
   "metadata": {},
   "outputs": [],
   "source": [
    "def experiment(stepper):\n",
    "    M = 11\n",
    "    herr = zeros( [M,2] )\n",
    "    for m in range(M):\n",
    "        N = 20*2**m\n",
    "        y = evolve( stepper, fint ,Df, 0,Y(0),T, N)\n",
    "        herr[m] = [T/N, norm( y[-1]-exactsolq3(T) )]\n",
    "\n",
    "    eoc = computeEocs( herr )\n",
    "    eoc = np.hstack( [ [np.nan],eoc ] )\n",
    "    res = np.hstack( [herr, np.atleast_2d(eoc).T] )\n",
    "    return res"
   ]
  },
  {
   "cell_type": "code",
   "execution_count": 12,
   "id": "18b3f072",
   "metadata": {},
   "outputs": [],
   "source": [
    "# Define the RHS of the ODE.\n",
    "def fint(t,y):\n",
    "    if t < t_bar:\n",
    "        return (-y)\n",
    "    elif t >= t_bar:\n",
    "        return (y)"
   ]
  },
  {
   "cell_type": "code",
   "execution_count": 13,
   "id": "9f40f9c7",
   "metadata": {},
   "outputs": [],
   "source": [
    "# Solving the ODE analytically.\n",
    "def exactsolq3(t):\n",
    "    if  t < t_bar:\n",
    "        return (np.exp(-t))\n",
    "    elif t >= t_bar:\n",
    "        return (np.exp(-np.sqrt(2) + t))\n"
   ]
  },
  {
   "cell_type": "code",
   "execution_count": 14,
   "id": "d02506b7",
   "metadata": {},
   "outputs": [],
   "source": [
    "resFE = experiment(forwardEuler)"
   ]
  },
  {
   "cell_type": "code",
   "execution_count": 15,
   "id": "152efe24",
   "metadata": {},
   "outputs": [],
   "source": [
    "resRalston = experiment(ralstonMethod)"
   ]
  },
  {
   "cell_type": "code",
   "execution_count": 16,
   "id": "eac7efa0",
   "metadata": {},
   "outputs": [
    {
     "data": {
      "text/plain": [
       "Text(0, 0.5, 'Error at end time')"
      ]
     },
     "execution_count": 16,
     "metadata": {},
     "output_type": "execute_result"
    },
    {
     "data": {
      "image/png": "[encoded data removed]",
      "text/plain": [
       "<Figure size 432x288 with 1 Axes>"
      ]
     },
     "metadata": {
      "needs_background": "light"
     },
     "output_type": "display_data"
    }
   ],
   "source": [
    "from matplotlib import pyplot as plt\n",
    "plt.loglog(res[:,0],res[:,1],'bo-',label=\"Forward Euler\")\n",
    "plt.loglog(res[:,0],res[:,4],'r^-',label=\"Ralston\")\n",
    "plt.legend()\n",
    "plt.grid(True)\n",
    "plt.xlabel(\"step size h\")\n",
    "plt.ylabel(\"Error at end time\")"
   ]
  },
  {
   "cell_type": "code",
   "execution_count": 17,
   "id": "5a51ca30",
   "metadata": {},
   "outputs": [
    {
     "data": {
      "text/plain": [
       "Text(0, 0.5, 'Error at end time')"
      ]
     },
     "execution_count": 17,
     "metadata": {},
     "output_type": "execute_result"
    },
    {
     "data": {
      "image/png": "[encoded data removed]",
      "text/plain": [
       "<Figure size 432x288 with 1 Axes>"
      ]
     },
     "metadata": {
      "needs_background": "light"
     },
     "output_type": "display_data"
    }
   ],
   "source": [
    "plt.loglog(T/res[:,0],res[:,1],'bo-',label=\"Forward Euler\")\n",
    "plt.loglog(2*T/res[:,0],res[:,4],'r^-',label=\"Ralston\")\n",
    "plt.legend()\n",
    "plt.grid(True)\n",
    "plt.xlabel(\"number of f evaluations\")\n",
    "plt.ylabel(\"Error at end time\")"
   ]
  },
  {
   "cell_type": "markdown",
   "id": "e6cbb160",
   "metadata": {},
   "source": [
    "### A) Accurracy comparison\n",
    "Although Graph 1 shows that  the approximation error converges non-linearly to zero when h tends to 0. Therefore, according to Theorem 5 we cannot ensure that the EOC for Forward Euler Method  converges to $O(h)$ as before. There is no theory in the lecture notes for Ralston therefore our results can't be contrasted. \n",
    "\n",
    "### B) Efficiency comparison. \n",
    "Each step of the Euler method requires a single evaluation of the right hand side function f in each step while Ralston Method requires two evaluations. Therefore, the computational cost of the method from Ralston measured by the number of evaluations of f to simulate up to a fixed time T will be twice the cost of the forward Euler method. This measure is used on the x axis\n",
    "in the final Figure showing the error for a given computational cost. Despite this fact, Graph 2 shows that Ralston Method is more efficient because to attain a given error it needs less computations of f.\n",
    "\n",
    "\n"
   ]
  }
 ],
 "metadata": {
  "kernelspec": {
   "display_name": "Python 3 (ipykernel)",
   "language": "python",
   "name": "python3"
  },
  "language_info": {
   "codemirror_mode": {
    "name": "ipython",
    "version": 3
   },
   "file_extension": ".py",
   "mimetype": "text/x-python",
   "name": "python",
   "nbconvert_exporter": "python",
   "pygments_lexer": "ipython3",
   "version": "3.9.7"
  }
 },
 "nbformat": 4,
 "nbformat_minor": 5
}
